{
 "cells": [
  {
   "cell_type": "code",
   "execution_count": 97,
   "metadata": {},
   "outputs": [],
   "source": [
    "import numpy as np\n",
    "\n",
    "x= np.random.randint(low=0,high=[720,480,10],size=[200,3])\n",
    "y= np.random.randint(low=[500,360,11],high=[720,480,15],size=[50,3])\n",
    "z=np.random.randint(low=[0,0,16],high=[120,80,20],size=[50,3])\n",
    "zz=np.random.randint(low=[340,150,21],high=[400,225,25],size=[50,3])\n",
    "\n",
    "data=np.concatenate((x,y, z,zz), axis=0)"
   ]
  },
  {
   "cell_type": "code",
   "execution_count": 1,
   "metadata": {},
   "outputs": [],
   "source": [
    "import pandas as pd\n",
    "\n",
    "df2=pd.read_csv(\"niketestdata.csv\")"
   ]
  },
  {
   "cell_type": "code",
   "execution_count": 2,
   "metadata": {},
   "outputs": [],
   "source": [
    "df= pd.DataFrame()\n",
    "df['x']=df2['X']\n",
    "df['y']=df2['Y']\n",
    "df['id']=df2['Object id']"
   ]
  },
  {
   "cell_type": "code",
   "execution_count": null,
   "metadata": {},
   "outputs": [],
   "source": []
  },
  {
   "cell_type": "code",
   "execution_count": 4,
   "metadata": {},
   "outputs": [],
   "source": [
    "#print(data.shape)\n",
    "polyp=[[332, 249],[334, 141],[440, 139],[442, 243]]"
   ]
  },
  {
   "cell_type": "code",
   "execution_count": 5,
   "metadata": {},
   "outputs": [],
   "source": [
    "#import pandas as pd\n",
    "\n",
    "#df=pd.DataFrame(data, columns = ['x','y','id'])"
   ]
  },
  {
   "cell_type": "code",
   "execution_count": 15,
   "metadata": {},
   "outputs": [
    {
     "data": {
      "text/html": [
       "<div>\n",
       "<style scoped>\n",
       "    .dataframe tbody tr th:only-of-type {\n",
       "        vertical-align: middle;\n",
       "    }\n",
       "\n",
       "    .dataframe tbody tr th {\n",
       "        vertical-align: top;\n",
       "    }\n",
       "\n",
       "    .dataframe thead th {\n",
       "        text-align: right;\n",
       "    }\n",
       "</style>\n",
       "<table border=\"1\" class=\"dataframe\">\n",
       "  <thead>\n",
       "    <tr style=\"text-align: right;\">\n",
       "      <th></th>\n",
       "      <th>x</th>\n",
       "      <th>y</th>\n",
       "      <th>id</th>\n",
       "      <th>point</th>\n",
       "    </tr>\n",
       "  </thead>\n",
       "  <tbody>\n",
       "    <tr>\n",
       "      <th>0</th>\n",
       "      <td>604</td>\n",
       "      <td>111</td>\n",
       "      <td>150</td>\n",
       "      <td>POINT (604 111)</td>\n",
       "    </tr>\n",
       "    <tr>\n",
       "      <th>1</th>\n",
       "      <td>605</td>\n",
       "      <td>111</td>\n",
       "      <td>150</td>\n",
       "      <td>POINT (605 111)</td>\n",
       "    </tr>\n",
       "    <tr>\n",
       "      <th>2</th>\n",
       "      <td>605</td>\n",
       "      <td>111</td>\n",
       "      <td>150</td>\n",
       "      <td>POINT (605 111)</td>\n",
       "    </tr>\n",
       "    <tr>\n",
       "      <th>3</th>\n",
       "      <td>604</td>\n",
       "      <td>111</td>\n",
       "      <td>150</td>\n",
       "      <td>POINT (604 111)</td>\n",
       "    </tr>\n",
       "    <tr>\n",
       "      <th>4</th>\n",
       "      <td>604</td>\n",
       "      <td>111</td>\n",
       "      <td>150</td>\n",
       "      <td>POINT (604 111)</td>\n",
       "    </tr>\n",
       "    <tr>\n",
       "      <th>...</th>\n",
       "      <td>...</td>\n",
       "      <td>...</td>\n",
       "      <td>...</td>\n",
       "      <td>...</td>\n",
       "    </tr>\n",
       "    <tr>\n",
       "      <th>1404</th>\n",
       "      <td>604</td>\n",
       "      <td>111</td>\n",
       "      <td>425</td>\n",
       "      <td>POINT (604 111)</td>\n",
       "    </tr>\n",
       "    <tr>\n",
       "      <th>1405</th>\n",
       "      <td>604</td>\n",
       "      <td>111</td>\n",
       "      <td>425</td>\n",
       "      <td>POINT (604 111)</td>\n",
       "    </tr>\n",
       "    <tr>\n",
       "      <th>1406</th>\n",
       "      <td>604</td>\n",
       "      <td>112</td>\n",
       "      <td>426</td>\n",
       "      <td>POINT (604 112)</td>\n",
       "    </tr>\n",
       "    <tr>\n",
       "      <th>1407</th>\n",
       "      <td>604</td>\n",
       "      <td>112</td>\n",
       "      <td>426</td>\n",
       "      <td>POINT (604 112)</td>\n",
       "    </tr>\n",
       "    <tr>\n",
       "      <th>1408</th>\n",
       "      <td>604</td>\n",
       "      <td>112</td>\n",
       "      <td>426</td>\n",
       "      <td>POINT (604 112)</td>\n",
       "    </tr>\n",
       "  </tbody>\n",
       "</table>\n",
       "<p>1409 rows × 4 columns</p>\n",
       "</div>"
      ],
      "text/plain": [
       "        x    y   id            point\n",
       "0     604  111  150  POINT (604 111)\n",
       "1     605  111  150  POINT (605 111)\n",
       "2     605  111  150  POINT (605 111)\n",
       "3     604  111  150  POINT (604 111)\n",
       "4     604  111  150  POINT (604 111)\n",
       "...   ...  ...  ...              ...\n",
       "1404  604  111  425  POINT (604 111)\n",
       "1405  604  111  425  POINT (604 111)\n",
       "1406  604  112  426  POINT (604 112)\n",
       "1407  604  112  426  POINT (604 112)\n",
       "1408  604  112  426  POINT (604 112)\n",
       "\n",
       "[1409 rows x 4 columns]"
      ]
     },
     "execution_count": 15,
     "metadata": {},
     "output_type": "execute_result"
    }
   ],
   "source": [
    "df"
   ]
  },
  {
   "cell_type": "code",
   "execution_count": 7,
   "metadata": {},
   "outputs": [],
   "source": [
    "from shapely.geometry import Point\n",
    "from shapely.geometry.polygon import Polygon\n",
    "\n",
    "df['point'] = df.apply(lambda row: Point(row['x'],row['y']),axis=1)\n",
    "polygon = Polygon(polyp)\n",
    "df_1 = df[df['point'].apply(polygon.contains)].copy()"
   ]
  },
  {
   "cell_type": "code",
   "execution_count": 16,
   "metadata": {},
   "outputs": [],
   "source": [
    "df_1=df.copy()"
   ]
  },
  {
   "cell_type": "code",
   "execution_count": 17,
   "metadata": {},
   "outputs": [
    {
     "name": "stdout",
     "output_type": "stream",
     "text": [
      "{150, 151, 152, 153, 154, 155, 156, 157, 158, 159, 160, 161, 162, 163, 164, 165, 166, 167, 168, 169, 170, 171, 172, 173, 174, 175, 176, 177, 178, 179, 180, 181, 182, 183, 184, 185, 186, 187, 188, 189, 190, 191, 192, 193, 194, 195, 196, 197, 198, 199, 200, 201, 202, 203, 204, 205, 206, 207, 208, 209, 210, 211, 212, 213, 214, 215, 216, 217, 218, 219, 220, 221, 222, 223, 224, 225, 226, 227, 228, 229, 230, 231, 232, 233, 234, 235, 236, 237, 238, 239, 240, 241, 242, 243, 244, 245, 246, 247, 248, 249, 250, 251, 252, 253, 254, 255, 256, 257, 258, 259, 260, 261, 262, 263, 264, 265, 266, 267, 268, 269, 270, 271, 272, 273, 274, 275, 276, 277, 278, 279, 280, 281, 282, 283, 284, 285, 286, 287, 288, 289, 290, 291, 292, 293, 294, 295, 296, 297, 298, 299, 300, 301, 302, 303, 304, 305, 306, 307, 308, 309, 310, 311, 312, 313, 314, 315, 316, 317, 318, 319, 320, 321, 322, 323, 324, 325, 326, 327, 328, 329, 330, 331, 332, 333, 334, 335, 336, 337, 338, 339, 340, 341, 342, 343, 344, 345, 346, 347, 348, 349, 350, 351, 352, 353, 354, 355, 356, 357, 358, 359, 360, 361, 362, 363, 364, 365, 366, 367, 368, 369, 370, 371, 372, 373, 374, 375, 376, 377, 378, 379, 380, 381, 382, 383, 384, 385, 386, 387, 388, 389, 390, 391, 392, 393, 394, 395, 396, 397, 398, 399, 400, 401, 402, 403, 404, 405, 406, 407, 408, 409, 410, 411, 412, 413, 414, 415, 416, 417, 418, 419, 420, 421, 422, 423, 424, 425, 426}\n"
     ]
    }
   ],
   "source": [
    "ids = set(df_1['id'].to_list())\n",
    "print(ids)"
   ]
  },
  {
   "cell_type": "code",
   "execution_count": 18,
   "metadata": {},
   "outputs": [],
   "source": [
    "df_f=df.loc[df['id'].isin(ids)]"
   ]
  },
  {
   "cell_type": "code",
   "execution_count": 19,
   "metadata": {},
   "outputs": [
    {
     "data": {
      "text/plain": [
       "(1409, 4)"
      ]
     },
     "execution_count": 19,
     "metadata": {},
     "output_type": "execute_result"
    }
   ],
   "source": [
    "df_f.to_numpy().shape"
   ]
  },
  {
   "cell_type": "code",
   "execution_count": 20,
   "metadata": {},
   "outputs": [],
   "source": [
    "df2=df_f.copy()\n",
    "data=df2.drop(['id', 'point'], axis=1).to_numpy()"
   ]
  },
  {
   "cell_type": "code",
   "execution_count": null,
   "metadata": {},
   "outputs": [],
   "source": []
  },
  {
   "cell_type": "code",
   "execution_count": 21,
   "metadata": {},
   "outputs": [],
   "source": [
    "l=[\"{ x: \"+str(i[0])+\", y: \"+str(i[1])+\",value: 0.8 }\" for i in data.tolist()]\n",
    "out=\"[ \"+\",\".join(l)+\" ]\""
   ]
  },
  {
   "cell_type": "code",
   "execution_count": 22,
   "metadata": {},
   "outputs": [
    {
     "data": {
      "text/plain": [
       "'[ { x: 604, y: 111,value: 0.8 },{ x: 605, y: 111,value: 0.8 },{ x: 605, y: 111,value: 0.8 },{ x: 604, y: 111,value: 0.8 },{ x: 604, y: 111,value: 0.8 },{ x: 605, y: 112,value: 0.8 },{ x: 605, y: 112,value: 0.8 },{ x: 605, y: 112,value: 0.8 },{ x: 605, y: 110,value: 0.8 },{ x: 605, y: 110,value: 0.8 },{ x: 604, y: 111,value: 0.8 },{ x: 604, y: 111,value: 0.8 },{ x: 604, y: 111,value: 0.8 },{ x: 605, y: 111,value: 0.8 },{ x: 605, y: 111,value: 0.8 },{ x: 605, y: 111,value: 0.8 },{ x: 604, y: 111,value: 0.8 },{ x: 604, y: 111,value: 0.8 },{ x: 604, y: 111,value: 0.8 },{ x: 604, y: 111,value: 0.8 },{ x: 605, y: 111,value: 0.8 },{ x: 605, y: 111,value: 0.8 },{ x: 605, y: 111,value: 0.8 },{ x: 604, y: 112,value: 0.8 },{ x: 604, y: 112,value: 0.8 },{ x: 604, y: 112,value: 0.8 },{ x: 605, y: 111,value: 0.8 },{ x: 605, y: 111,value: 0.8 },{ x: 605, y: 111,value: 0.8 },{ x: 604, y: 112,value: 0.8 },{ x: 604, y: 111,value: 0.8 },{ x: 604, y: 111,value: 0.8 },{ x: 604, y: 111,value: 0.8 },{ x: 605, y: 111,value: 0.8 },{ x: 605, y: 112,value: 0.8 },{ x: 605, y: 112,value: 0.8 },{ x: 604, y: 111,value: 0.8 },{ x: 604, y: 111,value: 0.8 },{ x: 604, y: 111,value: 0.8 },{ x: 605, y: 112,value: 0.8 },{ x: 605, y: 112,value: 0.8 },{ x: 605, y: 112,value: 0.8 },{ x: 605, y: 112,value: 0.8 },{ x: 604, y: 112,value: 0.8 },{ x: 604, y: 112,value: 0.8 },{ x: 604, y: 112,value: 0.8 },{ x: 605, y: 111,value: 0.8 },{ x: 605, y: 111,value: 0.8 },{ x: 605, y: 111,value: 0.8 },{ x: 605, y: 111,value: 0.8 },{ x: 605, y: 111,value: 0.8 },{ x: 605, y: 111,value: 0.8 },{ x: 605, y: 111,value: 0.8 },{ x: 604, y: 112,value: 0.8 },{ x: 604, y: 112,value: 0.8 },{ x: 605, y: 111,value: 0.8 },{ x: 605, y: 111,value: 0.8 },{ x: 605, y: 111,value: 0.8 },{ x: 604, y: 111,value: 0.8 },{ x: 604, y: 111,value: 0.8 },{ x: 604, y: 111,value: 0.8 },{ x: 604, y: 111,value: 0.8 },{ x: 605, y: 112,value: 0.8 },{ x: 605, y: 111,value: 0.8 },{ x: 605, y: 111,value: 0.8 },{ x: 605, y: 111,value: 0.8 },{ x: 605, y: 111,value: 0.8 },{ x: 605, y: 111,value: 0.8 },{ x: 605, y: 111,value: 0.8 },{ x: 605, y: 111,value: 0.8 },{ x: 604, y: 111,value: 0.8 },{ x: 604, y: 111,value: 0.8 },{ x: 604, y: 111,value: 0.8 },{ x: 605, y: 111,value: 0.8 },{ x: 605, y: 111,value: 0.8 },{ x: 605, y: 112,value: 0.8 },{ x: 605, y: 112,value: 0.8 },{ x: 605, y: 112,value: 0.8 },{ x: 605, y: 111,value: 0.8 },{ x: 604, y: 112,value: 0.8 },{ x: 604, y: 112,value: 0.8 },{ x: 604, y: 112,value: 0.8 },{ x: 605, y: 112,value: 0.8 },{ x: 605, y: 112,value: 0.8 },{ x: 604, y: 112,value: 0.8 },{ x: 604, y: 112,value: 0.8 },{ x: 604, y: 112,value: 0.8 },{ x: 605, y: 112,value: 0.8 },{ x: 605, y: 112,value: 0.8 },{ x: 605, y: 112,value: 0.8 },{ x: 605, y: 112,value: 0.8 },{ x: 605, y: 111,value: 0.8 },{ x: 605, y: 111,value: 0.8 },{ x: 605, y: 111,value: 0.8 },{ x: 605, y: 111,value: 0.8 },{ x: 605, y: 112,value: 0.8 },{ x: 605, y: 112,value: 0.8 },{ x: 605, y: 112,value: 0.8 },{ x: 605, y: 111,value: 0.8 },{ x: 605, y: 111,value: 0.8 },{ x: 605, y: 111,value: 0.8 },{ x: 605, y: 111,value: 0.8 },{ x: 604, y: 111,value: 0.8 },{ x: 604, y: 111,value: 0.8 },{ x: 605, y: 111,value: 0.8 },{ x: 604, y: 111,value: 0.8 },{ x: 604, y: 111,value: 0.8 },{ x: 604, y: 111,value: 0.8 },{ x: 605, y: 110,value: 0.8 },{ x: 605, y: 110,value: 0.8 },{ x: 605, y: 110,value: 0.8 },{ x: 604, y: 111,value: 0.8 },{ x: 604, y: 111,value: 0.8 },{ x: 604, y: 111,value: 0.8 },{ x: 604, y: 111,value: 0.8 },{ x: 605, y: 111,value: 0.8 },{ x: 605, y: 111,value: 0.8 },{ x: 605, y: 111,value: 0.8 },{ x: 604, y: 111,value: 0.8 },{ x: 604, y: 111,value: 0.8 },{ x: 604, y: 111,value: 0.8 },{ x: 604, y: 111,value: 0.8 },{ x: 604, y: 111,value: 0.8 },{ x: 604, y: 111,value: 0.8 },{ x: 604, y: 111,value: 0.8 },{ x: 604, y: 111,value: 0.8 },{ x: 604, y: 111,value: 0.8 },{ x: 605, y: 111,value: 0.8 },{ x: 604, y: 111,value: 0.8 },{ x: 604, y: 111,value: 0.8 },{ x: 604, y: 111,value: 0.8 },{ x: 605, y: 111,value: 0.8 },{ x: 605, y: 111,value: 0.8 },{ x: 605, y: 111,value: 0.8 },{ x: 605, y: 111,value: 0.8 },{ x: 604, y: 111,value: 0.8 },{ x: 604, y: 111,value: 0.8 },{ x: 604, y: 111,value: 0.8 },{ x: 605, y: 112,value: 0.8 },{ x: 605, y: 112,value: 0.8 },{ x: 605, y: 112,value: 0.8 },{ x: 605, y: 111,value: 0.8 },{ x: 605, y: 111,value: 0.8 },{ x: 605, y: 111,value: 0.8 },{ x: 604, y: 111,value: 0.8 },{ x: 604, y: 111,value: 0.8 },{ x: 604, y: 111,value: 0.8 },{ x: 604, y: 111,value: 0.8 },{ x: 604, y: 111,value: 0.8 },{ x: 604, y: 111,value: 0.8 },{ x: 605, y: 112,value: 0.8 },{ x: 605, y: 112,value: 0.8 },{ x: 605, y: 112,value: 0.8 },{ x: 604, y: 111,value: 0.8 },{ x: 604, y: 112,value: 0.8 },{ x: 604, y: 112,value: 0.8 },{ x: 604, y: 112,value: 0.8 },{ x: 605, y: 111,value: 0.8 },{ x: 605, y: 111,value: 0.8 },{ x: 605, y: 111,value: 0.8 },{ x: 604, y: 111,value: 0.8 },{ x: 604, y: 111,value: 0.8 },{ x: 605, y: 111,value: 0.8 },{ x: 605, y: 111,value: 0.8 },{ x: 605, y: 111,value: 0.8 },{ x: 605, y: 111,value: 0.8 },{ x: 605, y: 111,value: 0.8 },{ x: 605, y: 111,value: 0.8 },{ x: 605, y: 111,value: 0.8 },{ x: 605, y: 111,value: 0.8 },{ x: 605, y: 111,value: 0.8 },{ x: 605, y: 111,value: 0.8 },{ x: 605, y: 111,value: 0.8 },{ x: 605, y: 111,value: 0.8 },{ x: 604, y: 112,value: 0.8 },{ x: 604, y: 112,value: 0.8 },{ x: 604, y: 111,value: 0.8 },{ x: 604, y: 111,value: 0.8 },{ x: 604, y: 111,value: 0.8 },{ x: 604, y: 111,value: 0.8 },{ x: 604, y: 112,value: 0.8 },{ x: 604, y: 112,value: 0.8 },{ x: 604, y: 112,value: 0.8 },{ x: 605, y: 112,value: 0.8 },{ x: 605, y: 112,value: 0.8 },{ x: 605, y: 112,value: 0.8 },{ x: 605, y: 112,value: 0.8 },{ x: 605, y: 112,value: 0.8 },{ x: 605, y: 111,value: 0.8 },{ x: 605, y: 111,value: 0.8 },{ x: 605, y: 111,value: 0.8 },{ x: 604, y: 111,value: 0.8 },{ x: 604, y: 111,value: 0.8 },{ x: 604, y: 111,value: 0.8 },{ x: 604, y: 111,value: 0.8 },{ x: 605, y: 111,value: 0.8 },{ x: 605, y: 111,value: 0.8 },{ x: 605, y: 111,value: 0.8 },{ x: 605, y: 111,value: 0.8 },{ x: 605, y: 111,value: 0.8 },{ x: 605, y: 111,value: 0.8 },{ x: 604, y: 112,value: 0.8 },{ x: 604, y: 112,value: 0.8 },{ x: 604, y: 112,value: 0.8 },{ x: 604, y: 111,value: 0.8 },{ x: 605, y: 110,value: 0.8 },{ x: 604, y: 110,value: 0.8 },{ x: 604, y: 110,value: 0.8 },{ x: 604, y: 110,value: 0.8 },{ x: 604, y: 111,value: 0.8 },{ x: 604, y: 111,value: 0.8 },{ x: 604, y: 111,value: 0.8 },{ x: 605, y: 112,value: 0.8 },{ x: 605, y: 112,value: 0.8 },{ x: 605, y: 112,value: 0.8 },{ x: 605, y: 112,value: 0.8 },{ x: 605, y: 112,value: 0.8 },{ x: 605, y: 111,value: 0.8 },{ x: 604, y: 111,value: 0.8 },{ x: 605, y: 111,value: 0.8 },{ x: 605, y: 111,value: 0.8 },{ x: 605, y: 111,value: 0.8 },{ x: 604, y: 112,value: 0.8 },{ x: 604, y: 112,value: 0.8 },{ x: 604, y: 112,value: 0.8 },{ x: 604, y: 111,value: 0.8 },{ x: 604, y: 111,value: 0.8 },{ x: 604, y: 111,value: 0.8 },{ x: 605, y: 111,value: 0.8 },{ x: 605, y: 111,value: 0.8 },{ x: 605, y: 111,value: 0.8 },{ x: 605, y: 111,value: 0.8 },{ x: 604, y: 112,value: 0.8 },{ x: 604, y: 112,value: 0.8 },{ x: 604, y: 112,value: 0.8 },{ x: 604, y: 111,value: 0.8 },{ x: 604, y: 111,value: 0.8 },{ x: 604, y: 111,value: 0.8 },{ x: 605, y: 111,value: 0.8 },{ x: 605, y: 111,value: 0.8 },{ x: 604, y: 111,value: 0.8 },{ x: 604, y: 111,value: 0.8 },{ x: 604, y: 111,value: 0.8 },{ x: 605, y: 111,value: 0.8 },{ x: 605, y: 111,value: 0.8 },{ x: 605, y: 111,value: 0.8 },{ x: 605, y: 112,value: 0.8 },{ x: 605, y: 112,value: 0.8 },{ x: 605, y: 112,value: 0.8 },{ x: 604, y: 111,value: 0.8 },{ x: 605, y: 112,value: 0.8 },{ x: 604, y: 111,value: 0.8 },{ x: 605, y: 111,value: 0.8 },{ x: 605, y: 111,value: 0.8 },{ x: 605, y: 111,value: 0.8 },{ x: 605, y: 111,value: 0.8 },{ x: 605, y: 111,value: 0.8 },{ x: 605, y: 111,value: 0.8 },{ x: 605, y: 111,value: 0.8 },{ x: 605, y: 111,value: 0.8 },{ x: 605, y: 111,value: 0.8 },{ x: 605, y: 111,value: 0.8 },{ x: 605, y: 111,value: 0.8 },{ x: 605, y: 111,value: 0.8 },{ x: 605, y: 111,value: 0.8 },{ x: 605, y: 111,value: 0.8 },{ x: 605, y: 111,value: 0.8 },{ x: 605, y: 111,value: 0.8 },{ x: 604, y: 112,value: 0.8 },{ x: 604, y: 112,value: 0.8 },{ x: 604, y: 112,value: 0.8 },{ x: 605, y: 111,value: 0.8 },{ x: 605, y: 111,value: 0.8 },{ x: 605, y: 111,value: 0.8 },{ x: 605, y: 112,value: 0.8 },{ x: 605, y: 112,value: 0.8 },{ x: 605, y: 112,value: 0.8 },{ x: 605, y: 112,value: 0.8 },{ x: 605, y: 112,value: 0.8 },{ x: 605, y: 112,value: 0.8 },{ x: 604, y: 111,value: 0.8 },{ x: 604, y: 111,value: 0.8 },{ x: 604, y: 111,value: 0.8 },{ x: 605, y: 111,value: 0.8 },{ x: 605, y: 111,value: 0.8 },{ x: 605, y: 111,value: 0.8 },{ x: 604, y: 111,value: 0.8 },{ x: 604, y: 111,value: 0.8 },{ x: 604, y: 111,value: 0.8 },{ x: 604, y: 111,value: 0.8 },{ x: 605, y: 111,value: 0.8 },{ x: 605, y: 111,value: 0.8 },{ x: 605, y: 111,value: 0.8 },{ x: 604, y: 111,value: 0.8 },{ x: 604, y: 111,value: 0.8 },{ x: 604, y: 111,value: 0.8 },{ x: 604, y: 112,value: 0.8 },{ x: 604, y: 112,value: 0.8 },{ x: 604, y: 112,value: 0.8 },{ x: 604, y: 112,value: 0.8 },{ x: 604, y: 112,value: 0.8 },{ x: 604, y: 112,value: 0.8 },{ x: 605, y: 111,value: 0.8 },{ x: 605, y: 111,value: 0.8 },{ x: 605, y: 111,value: 0.8 },{ x: 605, y: 111,value: 0.8 },{ x: 605, y: 111,value: 0.8 },{ x: 604, y: 112,value: 0.8 },{ x: 604, y: 112,value: 0.8 },{ x: 604, y: 112,value: 0.8 },{ x: 605, y: 112,value: 0.8 },{ x: 605, y: 112,value: 0.8 },{ x: 605, y: 112,value: 0.8 },{ x: 605, y: 111,value: 0.8 },{ x: 605, y: 111,value: 0.8 },{ x: 605, y: 111,value: 0.8 },{ x: 605, y: 111,value: 0.8 },{ x: 605, y: 111,value: 0.8 },{ x: 604, y: 111,value: 0.8 },{ x: 604, y: 112,value: 0.8 },{ x: 604, y: 112,value: 0.8 },{ x: 604, y: 112,value: 0.8 },{ x: 605, y: 111,value: 0.8 },{ x: 605, y: 111,value: 0.8 },{ x: 605, y: 111,value: 0.8 },{ x: 605, y: 112,value: 0.8 },{ x: 605, y: 111,value: 0.8 },{ x: 605, y: 111,value: 0.8 },{ x: 605, y: 111,value: 0.8 },{ x: 605, y: 111,value: 0.8 },{ x: 604, y: 111,value: 0.8 },{ x: 604, y: 111,value: 0.8 },{ x: 604, y: 111,value: 0.8 },{ x: 605, y: 111,value: 0.8 },{ x: 605, y: 111,value: 0.8 },{ x: 605, y: 111,value: 0.8 },{ x: 605, y: 111,value: 0.8 },{ x: 605, y: 111,value: 0.8 },{ x: 605, y: 111,value: 0.8 },{ x: 605, y: 111,value: 0.8 },{ x: 605, y: 111,value: 0.8 },{ x: 604, y: 111,value: 0.8 },{ x: 604, y: 111,value: 0.8 },{ x: 604, y: 111,value: 0.8 },{ x: 605, y: 111,value: 0.8 },{ x: 605, y: 111,value: 0.8 },{ x: 604, y: 111,value: 0.8 },{ x: 604, y: 111,value: 0.8 },{ x: 604, y: 111,value: 0.8 },{ x: 605, y: 111,value: 0.8 },{ x: 605, y: 111,value: 0.8 },{ x: 605, y: 111,value: 0.8 },{ x: 605, y: 111,value: 0.8 },{ x: 605, y: 111,value: 0.8 },{ x: 605, y: 111,value: 0.8 },{ x: 605, y: 111,value: 0.8 },{ x: 605, y: 111,value: 0.8 },{ x: 605, y: 111,value: 0.8 },{ x: 605, y: 111,value: 0.8 },{ x: 605, y: 111,value: 0.8 },{ x: 605, y: 111,value: 0.8 },{ x: 605, y: 111,value: 0.8 },{ x: 605, y: 111,value: 0.8 },{ x: 604, y: 111,value: 0.8 },{ x: 604, y: 111,value: 0.8 },{ x: 604, y: 111,value: 0.8 },{ x: 605, y: 111,value: 0.8 },{ x: 605, y: 111,value: 0.8 },{ x: 605, y: 111,value: 0.8 },{ x: 605, y: 111,value: 0.8 },{ x: 604, y: 111,value: 0.8 },{ x: 604, y: 111,value: 0.8 },{ x: 604, y: 111,value: 0.8 },{ x: 604, y: 112,value: 0.8 },{ x: 604, y: 112,value: 0.8 },{ x: 604, y: 112,value: 0.8 },{ x: 605, y: 112,value: 0.8 },{ x: 605, y: 112,value: 0.8 },{ x: 605, y: 112,value: 0.8 },{ x: 604, y: 111,value: 0.8 },{ x: 604, y: 111,value: 0.8 },{ x: 604, y: 111,value: 0.8 },{ x: 605, y: 111,value: 0.8 },{ x: 605, y: 111,value: 0.8 },{ x: 605, y: 112,value: 0.8 },{ x: 605, y: 112,value: 0.8 },{ x: 605, y: 112,value: 0.8 },{ x: 605, y: 111,value: 0.8 },{ x: 605, y: 111,value: 0.8 },{ x: 605, y: 111,value: 0.8 },{ x: 605, y: 111,value: 0.8 },{ x: 604, y: 111,value: 0.8 },{ x: 604, y: 111,value: 0.8 },{ x: 604, y: 111,value: 0.8 },{ x: 605, y: 111,value: 0.8 },{ x: 605, y: 111,value: 0.8 },{ x: 605, y: 111,value: 0.8 },{ x: 605, y: 111,value: 0.8 },{ x: 605, y: 111,value: 0.8 },{ x: 605, y: 111,value: 0.8 },{ x: 604, y: 111,value: 0.8 },{ x: 605, y: 111,value: 0.8 },{ x: 605, y: 112,value: 0.8 },{ x: 605, y: 112,value: 0.8 },{ x: 605, y: 112,value: 0.8 },{ x: 605, y: 112,value: 0.8 },{ x: 605, y: 111,value: 0.8 },{ x: 605, y: 111,value: 0.8 },{ x: 605, y: 111,value: 0.8 },{ x: 604, y: 111,value: 0.8 },{ x: 604, y: 111,value: 0.8 },{ x: 604, y: 111,value: 0.8 },{ x: 605, y: 111,value: 0.8 },{ x: 605, y: 111,value: 0.8 },{ x: 605, y: 111,value: 0.8 },{ x: 604, y: 111,value: 0.8 },{ x: 604, y: 111,value: 0.8 },{ x: 604, y: 111,value: 0.8 },{ x: 605, y: 112,value: 0.8 },{ x: 605, y: 112,value: 0.8 },{ x: 605, y: 112,value: 0.8 },{ x: 605, y: 111,value: 0.8 },{ x: 605, y: 111,value: 0.8 },{ x: 605, y: 111,value: 0.8 },{ x: 605, y: 111,value: 0.8 },{ x: 605, y: 111,value: 0.8 },{ x: 605, y: 111,value: 0.8 },{ x: 604, y: 111,value: 0.8 },{ x: 604, y: 111,value: 0.8 },{ x: 604, y: 111,value: 0.8 },{ x: 605, y: 111,value: 0.8 },{ x: 605, y: 111,value: 0.8 },{ x: 605, y: 111,value: 0.8 },{ x: 604, y: 111,value: 0.8 },{ x: 604, y: 111,value: 0.8 },{ x: 604, y: 111,value: 0.8 },{ x: 605, y: 111,value: 0.8 },{ x: 605, y: 111,value: 0.8 },{ x: 605, y: 111,value: 0.8 },{ x: 604, y: 111,value: 0.8 },{ x: 604, y: 111,value: 0.8 },{ x: 604, y: 111,value: 0.8 },{ x: 604, y: 112,value: 0.8 },{ x: 604, y: 112,value: 0.8 },{ x: 604, y: 112,value: 0.8 },{ x: 604, y: 111,value: 0.8 },{ x: 604, y: 111,value: 0.8 },{ x: 604, y: 111,value: 0.8 },{ x: 605, y: 111,value: 0.8 },{ x: 604, y: 111,value: 0.8 },{ x: 604, y: 111,value: 0.8 },{ x: 604, y: 111,value: 0.8 },{ x: 604, y: 111,value: 0.8 },{ x: 605, y: 111,value: 0.8 },{ x: 605, y: 111,value: 0.8 },{ x: 605, y: 111,value: 0.8 },{ x: 604, y: 111,value: 0.8 },{ x: 604, y: 111,value: 0.8 },{ x: 604, y: 111,value: 0.8 },{ x: 604, y: 111,value: 0.8 },{ x: 604, y: 111,value: 0.8 },{ x: 604, y: 111,value: 0.8 },{ x: 605, y: 111,value: 0.8 },{ x: 605, y: 111,value: 0.8 },{ x: 605, y: 111,value: 0.8 },{ x: 605, y: 111,value: 0.8 },{ x: 605, y: 112,value: 0.8 },{ x: 605, y: 112,value: 0.8 },{ x: 605, y: 112,value: 0.8 },{ x: 605, y: 111,value: 0.8 },{ x: 605, y: 111,value: 0.8 },{ x: 604, y: 112,value: 0.8 },{ x: 604, y: 112,value: 0.8 },{ x: 604, y: 112,value: 0.8 },{ x: 605, y: 111,value: 0.8 },{ x: 605, y: 111,value: 0.8 },{ x: 605, y: 111,value: 0.8 },{ x: 605, y: 111,value: 0.8 },{ x: 605, y: 111,value: 0.8 },{ x: 604, y: 112,value: 0.8 },{ x: 604, y: 112,value: 0.8 },{ x: 604, y: 112,value: 0.8 },{ x: 604, y: 112,value: 0.8 },{ x: 605, y: 112,value: 0.8 },{ x: 605, y: 112,value: 0.8 },{ x: 605, y: 112,value: 0.8 },{ x: 604, y: 111,value: 0.8 },{ x: 604, y: 111,value: 0.8 },{ x: 604, y: 111,value: 0.8 },{ x: 604, y: 111,value: 0.8 },{ x: 604, y: 111,value: 0.8 },{ x: 604, y: 111,value: 0.8 },{ x: 605, y: 111,value: 0.8 },{ x: 605, y: 111,value: 0.8 },{ x: 605, y: 111,value: 0.8 },{ x: 604, y: 111,value: 0.8 },{ x: 605, y: 111,value: 0.8 },{ x: 605, y: 111,value: 0.8 },{ x: 605, y: 111,value: 0.8 },{ x: 605, y: 111,value: 0.8 },{ x: 605, y: 111,value: 0.8 },{ x: 604, y: 111,value: 0.8 },{ x: 604, y: 111,value: 0.8 },{ x: 604, y: 111,value: 0.8 },{ x: 605, y: 112,value: 0.8 },{ x: 604, y: 111,value: 0.8 },{ x: 604, y: 111,value: 0.8 },{ x: 605, y: 111,value: 0.8 },{ x: 605, y: 111,value: 0.8 },{ x: 605, y: 111,value: 0.8 },{ x: 604, y: 111,value: 0.8 },{ x: 605, y: 111,value: 0.8 },{ x: 605, y: 111,value: 0.8 },{ x: 605, y: 111,value: 0.8 },{ x: 604, y: 111,value: 0.8 },{ x: 604, y: 111,value: 0.8 },{ x: 604, y: 111,value: 0.8 },{ x: 605, y: 111,value: 0.8 },{ x: 605, y: 111,value: 0.8 },{ x: 605, y: 111,value: 0.8 },{ x: 604, y: 111,value: 0.8 },{ x: 604, y: 111,value: 0.8 },{ x: 604, y: 111,value: 0.8 },{ x: 605, y: 111,value: 0.8 },{ x: 605, y: 111,value: 0.8 },{ x: 605, y: 111,value: 0.8 },{ x: 605, y: 111,value: 0.8 },{ x: 605, y: 111,value: 0.8 },{ x: 604, y: 111,value: 0.8 },{ x: 604, y: 111,value: 0.8 },{ x: 605, y: 111,value: 0.8 },{ x: 605, y: 111,value: 0.8 },{ x: 605, y: 111,value: 0.8 },{ x: 604, y: 112,value: 0.8 },{ x: 604, y: 112,value: 0.8 },{ x: 604, y: 112,value: 0.8 },{ x: 605, y: 110,value: 0.8 },{ x: 605, y: 110,value: 0.8 },{ x: 605, y: 110,value: 0.8 },{ x: 605, y: 111,value: 0.8 },{ x: 605, y: 111,value: 0.8 },{ x: 605, y: 111,value: 0.8 },{ x: 605, y: 111,value: 0.8 },{ x: 605, y: 111,value: 0.8 },{ x: 605, y: 111,value: 0.8 },{ x: 605, y: 111,value: 0.8 },{ x: 605, y: 111,value: 0.8 },{ x: 605, y: 111,value: 0.8 },{ x: 605, y: 111,value: 0.8 },{ x: 605, y: 111,value: 0.8 },{ x: 605, y: 111,value: 0.8 },{ x: 605, y: 111,value: 0.8 },{ x: 605, y: 111,value: 0.8 },{ x: 605, y: 111,value: 0.8 },{ x: 605, y: 111,value: 0.8 },{ x: 605, y: 111,value: 0.8 },{ x: 605, y: 111,value: 0.8 },{ x: 605, y: 111,value: 0.8 },{ x: 605, y: 111,value: 0.8 },{ x: 604, y: 111,value: 0.8 },{ x: 604, y: 111,value: 0.8 },{ x: 604, y: 111,value: 0.8 },{ x: 605, y: 111,value: 0.8 },{ x: 605, y: 112,value: 0.8 },{ x: 605, y: 112,value: 0.8 },{ x: 605, y: 112,value: 0.8 },{ x: 604, y: 112,value: 0.8 },{ x: 604, y: 112,value: 0.8 },{ x: 604, y: 112,value: 0.8 },{ x: 605, y: 111,value: 0.8 },{ x: 605, y: 111,value: 0.8 },{ x: 605, y: 111,value: 0.8 },{ x: 605, y: 112,value: 0.8 },{ x: 605, y: 112,value: 0.8 },{ x: 605, y: 112,value: 0.8 },{ x: 605, y: 112,value: 0.8 },{ x: 605, y: 112,value: 0.8 },{ x: 605, y: 112,value: 0.8 },{ x: 605, y: 112,value: 0.8 },{ x: 605, y: 112,value: 0.8 },{ x: 605, y: 112,value: 0.8 },{ x: 605, y: 112,value: 0.8 },{ x: 605, y: 112,value: 0.8 },{ x: 605, y: 112,value: 0.8 },{ x: 604, y: 112,value: 0.8 },{ x: 604, y: 112,value: 0.8 },{ x: 604, y: 112,value: 0.8 },{ x: 605, y: 112,value: 0.8 },{ x: 605, y: 112,value: 0.8 },{ x: 605, y: 112,value: 0.8 },{ x: 605, y: 112,value: 0.8 },{ x: 605, y: 112,value: 0.8 },{ x: 605, y: 112,value: 0.8 },{ x: 605, y: 112,value: 0.8 },{ x: 604, y: 111,value: 0.8 },{ x: 604, y: 111,value: 0.8 },{ x: 604, y: 111,value: 0.8 },{ x: 605, y: 111,value: 0.8 },{ x: 605, y: 111,value: 0.8 },{ x: 605, y: 111,value: 0.8 },{ x: 604, y: 111,value: 0.8 },{ x: 604, y: 111,value: 0.8 },{ x: 604, y: 111,value: 0.8 },{ x: 605, y: 111,value: 0.8 },{ x: 605, y: 111,value: 0.8 },{ x: 605, y: 112,value: 0.8 },{ x: 605, y: 112,value: 0.8 },{ x: 605, y: 112,value: 0.8 },{ x: 605, y: 112,value: 0.8 },{ x: 605, y: 111,value: 0.8 },{ x: 605, y: 111,value: 0.8 },{ x: 605, y: 111,value: 0.8 },{ x: 605, y: 111,value: 0.8 },{ x: 605, y: 111,value: 0.8 },{ x: 605, y: 111,value: 0.8 },{ x: 605, y: 111,value: 0.8 },{ x: 605, y: 111,value: 0.8 },{ x: 605, y: 111,value: 0.8 },{ x: 605, y: 111,value: 0.8 },{ x: 605, y: 111,value: 0.8 },{ x: 604, y: 111,value: 0.8 },{ x: 604, y: 111,value: 0.8 },{ x: 604, y: 111,value: 0.8 },{ x: 604, y: 111,value: 0.8 },{ x: 604, y: 111,value: 0.8 },{ x: 604, y: 111,value: 0.8 },{ x: 604, y: 112,value: 0.8 },{ x: 605, y: 112,value: 0.8 },{ x: 605, y: 112,value: 0.8 },{ x: 604, y: 112,value: 0.8 },{ x: 604, y: 112,value: 0.8 },{ x: 604, y: 112,value: 0.8 },{ x: 605, y: 111,value: 0.8 },{ x: 605, y: 111,value: 0.8 },{ x: 605, y: 111,value: 0.8 },{ x: 604, y: 111,value: 0.8 },{ x: 604, y: 111,value: 0.8 },{ x: 604, y: 111,value: 0.8 },{ x: 605, y: 111,value: 0.8 },{ x: 605, y: 111,value: 0.8 },{ x: 604, y: 112,value: 0.8 },{ x: 604, y: 112,value: 0.8 },{ x: 604, y: 112,value: 0.8 },{ x: 605, y: 112,value: 0.8 },{ x: 604, y: 112,value: 0.8 },{ x: 604, y: 112,value: 0.8 },{ x: 604, y: 112,value: 0.8 },{ x: 605, y: 112,value: 0.8 },{ x: 605, y: 112,value: 0.8 },{ x: 605, y: 112,value: 0.8 },{ x: 605, y: 111,value: 0.8 },{ x: 605, y: 111,value: 0.8 },{ x: 605, y: 111,value: 0.8 },{ x: 604, y: 111,value: 0.8 },{ x: 604, y: 111,value: 0.8 },{ x: 604, y: 111,value: 0.8 },{ x: 604, y: 112,value: 0.8 },{ x: 604, y: 112,value: 0.8 },{ x: 604, y: 112,value: 0.8 },{ x: 604, y: 112,value: 0.8 },{ x: 604, y: 112,value: 0.8 },{ x: 604, y: 112,value: 0.8 },{ x: 604, y: 111,value: 0.8 },{ x: 604, y: 111,value: 0.8 },{ x: 604, y: 111,value: 0.8 },{ x: 605, y: 111,value: 0.8 },{ x: 605, y: 111,value: 0.8 },{ x: 605, y: 111,value: 0.8 },{ x: 605, y: 111,value: 0.8 },{ x: 605, y: 111,value: 0.8 },{ x: 605, y: 111,value: 0.8 },{ x: 605, y: 111,value: 0.8 },{ x: 605, y: 111,value: 0.8 },{ x: 605, y: 111,value: 0.8 },{ x: 605, y: 112,value: 0.8 },{ x: 605, y: 112,value: 0.8 },{ x: 605, y: 112,value: 0.8 },{ x: 604, y: 111,value: 0.8 },{ x: 604, y: 111,value: 0.8 },{ x: 604, y: 111,value: 0.8 },{ x: 605, y: 111,value: 0.8 },{ x: 605, y: 111,value: 0.8 },{ x: 605, y: 111,value: 0.8 },{ x: 605, y: 111,value: 0.8 },{ x: 605, y: 111,value: 0.8 },{ x: 604, y: 111,value: 0.8 },{ x: 605, y: 111,value: 0.8 },{ x: 605, y: 111,value: 0.8 },{ x: 605, y: 111,value: 0.8 },{ x: 605, y: 111,value: 0.8 },{ x: 605, y: 111,value: 0.8 },{ x: 605, y: 111,value: 0.8 },{ x: 605, y: 111,value: 0.8 },{ x: 605, y: 111,value: 0.8 },{ x: 605, y: 111,value: 0.8 },{ x: 604, y: 112,value: 0.8 },{ x: 604, y: 112,value: 0.8 },{ x: 604, y: 112,value: 0.8 },{ x: 604, y: 111,value: 0.8 },{ x: 604, y: 111,value: 0.8 },{ x: 604, y: 111,value: 0.8 },{ x: 604, y: 111,value: 0.8 },{ x: 604, y: 111,value: 0.8 },{ x: 604, y: 111,value: 0.8 },{ x: 605, y: 111,value: 0.8 },{ x: 605, y: 111,value: 0.8 },{ x: 605, y: 111,value: 0.8 },{ x: 604, y: 111,value: 0.8 },{ x: 604, y: 111,value: 0.8 },{ x: 604, y: 111,value: 0.8 },{ x: 604, y: 111,value: 0.8 },{ x: 604, y: 111,value: 0.8 },{ x: 604, y: 111,value: 0.8 },{ x: 605, y: 112,value: 0.8 },{ x: 605, y: 112,value: 0.8 },{ x: 605, y: 112,value: 0.8 },{ x: 605, y: 111,value: 0.8 },{ x: 605, y: 111,value: 0.8 },{ x: 605, y: 111,value: 0.8 },{ x: 605, y: 112,value: 0.8 },{ x: 605, y: 112,value: 0.8 },{ x: 605, y: 112,value: 0.8 },{ x: 605, y: 111,value: 0.8 },{ x: 604, y: 111,value: 0.8 },{ x: 604, y: 111,value: 0.8 },{ x: 605, y: 111,value: 0.8 },{ x: 604, y: 111,value: 0.8 },{ x: 604, y: 111,value: 0.8 },{ x: 604, y: 111,value: 0.8 },{ x: 604, y: 111,value: 0.8 },{ x: 604, y: 111,value: 0.8 },{ x: 604, y: 111,value: 0.8 },{ x: 604, y: 111,value: 0.8 },{ x: 605, y: 112,value: 0.8 },{ x: 605, y: 112,value: 0.8 },{ x: 605, y: 112,value: 0.8 },{ x: 604, y: 111,value: 0.8 },{ x: 604, y: 111,value: 0.8 },{ x: 605, y: 112,value: 0.8 },{ x: 605, y: 112,value: 0.8 },{ x: 605, y: 111,value: 0.8 },{ x: 605, y: 111,value: 0.8 },{ x: 605, y: 112,value: 0.8 },{ x: 605, y: 112,value: 0.8 },{ x: 605, y: 112,value: 0.8 },{ x: 605, y: 112,value: 0.8 },{ x: 605, y: 111,value: 0.8 },{ x: 604, y: 111,value: 0.8 },{ x: 604, y: 111,value: 0.8 },{ x: 604, y: 111,value: 0.8 },{ x: 604, y: 111,value: 0.8 },{ x: 604, y: 111,value: 0.8 },{ x: 604, y: 111,value: 0.8 },{ x: 604, y: 111,value: 0.8 },{ x: 605, y: 111,value: 0.8 },{ x: 604, y: 112,value: 0.8 },{ x: 604, y: 111,value: 0.8 },{ x: 605, y: 111,value: 0.8 },{ x: 604, y: 111,value: 0.8 },{ x: 605, y: 111,value: 0.8 },{ x: 605, y: 111,value: 0.8 },{ x: 605, y: 111,value: 0.8 },{ x: 605, y: 111,value: 0.8 },{ x: 605, y: 111,value: 0.8 },{ x: 605, y: 111,value: 0.8 },{ x: 605, y: 112,value: 0.8 },{ x: 605, y: 112,value: 0.8 },{ x: 605, y: 112,value: 0.8 },{ x: 604, y: 112,value: 0.8 },{ x: 604, y: 112,value: 0.8 },{ x: 604, y: 112,value: 0.8 },{ x: 605, y: 111,value: 0.8 },{ x: 605, y: 111,value: 0.8 },{ x: 605, y: 111,value: 0.8 },{ x: 604, y: 112,value: 0.8 },{ x: 604, y: 112,value: 0.8 },{ x: 604, y: 112,value: 0.8 },{ x: 604, y: 111,value: 0.8 },{ x: 604, y: 111,value: 0.8 },{ x: 604, y: 111,value: 0.8 },{ x: 605, y: 113,value: 0.8 },{ x: 605, y: 113,value: 0.8 },{ x: 604, y: 112,value: 0.8 },{ x: 604, y: 112,value: 0.8 },{ x: 605, y: 112,value: 0.8 },{ x: 605, y: 112,value: 0.8 },{ x: 605, y: 112,value: 0.8 },{ x: 605, y: 112,value: 0.8 },{ x: 605, y: 112,value: 0.8 },{ x: 605, y: 112,value: 0.8 },{ x: 605, y: 112,value: 0.8 },{ x: 605, y: 112,value: 0.8 },{ x: 605, y: 112,value: 0.8 },{ x: 604, y: 111,value: 0.8 },{ x: 604, y: 111,value: 0.8 },{ x: 605, y: 112,value: 0.8 },{ x: 605, y: 112,value: 0.8 },{ x: 605, y: 112,value: 0.8 },{ x: 605, y: 112,value: 0.8 },{ x: 605, y: 112,value: 0.8 },{ x: 605, y: 112,value: 0.8 },{ x: 605, y: 112,value: 0.8 },{ x: 605, y: 112,value: 0.8 },{ x: 605, y: 112,value: 0.8 },{ x: 605, y: 111,value: 0.8 },{ x: 605, y: 112,value: 0.8 },{ x: 605, y: 112,value: 0.8 },{ x: 605, y: 112,value: 0.8 },{ x: 605, y: 112,value: 0.8 },{ x: 605, y: 112,value: 0.8 },{ x: 605, y: 112,value: 0.8 },{ x: 605, y: 112,value: 0.8 },{ x: 605, y: 111,value: 0.8 },{ x: 605, y: 111,value: 0.8 },{ x: 605, y: 111,value: 0.8 },{ x: 604, y: 112,value: 0.8 },{ x: 604, y: 112,value: 0.8 },{ x: 604, y: 112,value: 0.8 },{ x: 604, y: 111,value: 0.8 },{ x: 604, y: 111,value: 0.8 },{ x: 604, y: 111,value: 0.8 },{ x: 605, y: 111,value: 0.8 },{ x: 605, y: 111,value: 0.8 },{ x: 605, y: 111,value: 0.8 },{ x: 604, y: 111,value: 0.8 },{ x: 605, y: 111,value: 0.8 },{ x: 605, y: 111,value: 0.8 },{ x: 604, y: 111,value: 0.8 },{ x: 605, y: 111,value: 0.8 },{ x: 604, y: 111,value: 0.8 },{ x: 604, y: 111,value: 0.8 },{ x: 605, y: 111,value: 0.8 },{ x: 604, y: 111,value: 0.8 },{ x: 604, y: 111,value: 0.8 },{ x: 604, y: 111,value: 0.8 },{ x: 605, y: 111,value: 0.8 },{ x: 604, y: 111,value: 0.8 },{ x: 604, y: 111,value: 0.8 },{ x: 604, y: 111,value: 0.8 },{ x: 604, y: 111,value: 0.8 },{ x: 604, y: 111,value: 0.8 },{ x: 604, y: 111,value: 0.8 },{ x: 604, y: 111,value: 0.8 },{ x: 604, y: 110,value: 0.8 },{ x: 604, y: 110,value: 0.8 },{ x: 604, y: 110,value: 0.8 },{ x: 605, y: 112,value: 0.8 },{ x: 605, y: 112,value: 0.8 },{ x: 605, y: 112,value: 0.8 },{ x: 605, y: 111,value: 0.8 },{ x: 605, y: 111,value: 0.8 },{ x: 605, y: 111,value: 0.8 },{ x: 605, y: 112,value: 0.8 },{ x: 605, y: 112,value: 0.8 },{ x: 605, y: 112,value: 0.8 },{ x: 605, y: 112,value: 0.8 },{ x: 605, y: 112,value: 0.8 },{ x: 605, y: 112,value: 0.8 },{ x: 605, y: 112,value: 0.8 },{ x: 605, y: 112,value: 0.8 },{ x: 605, y: 111,value: 0.8 },{ x: 605, y: 111,value: 0.8 },{ x: 605, y: 111,value: 0.8 },{ x: 604, y: 111,value: 0.8 },{ x: 604, y: 111,value: 0.8 },{ x: 604, y: 111,value: 0.8 },{ x: 605, y: 111,value: 0.8 },{ x: 605, y: 111,value: 0.8 },{ x: 604, y: 111,value: 0.8 },{ x: 604, y: 111,value: 0.8 },{ x: 604, y: 111,value: 0.8 },{ x: 604, y: 111,value: 0.8 },{ x: 604, y: 111,value: 0.8 },{ x: 604, y: 111,value: 0.8 },{ x: 604, y: 112,value: 0.8 },{ x: 604, y: 112,value: 0.8 },{ x: 604, y: 112,value: 0.8 },{ x: 605, y: 113,value: 0.8 },{ x: 605, y: 113,value: 0.8 },{ x: 605, y: 113,value: 0.8 },{ x: 605, y: 112,value: 0.8 },{ x: 605, y: 112,value: 0.8 },{ x: 605, y: 112,value: 0.8 },{ x: 605, y: 112,value: 0.8 },{ x: 604, y: 111,value: 0.8 },{ x: 604, y: 111,value: 0.8 },{ x: 604, y: 111,value: 0.8 },{ x: 604, y: 111,value: 0.8 },{ x: 604, y: 111,value: 0.8 },{ x: 604, y: 111,value: 0.8 },{ x: 604, y: 112,value: 0.8 },{ x: 604, y: 112,value: 0.8 },{ x: 604, y: 112,value: 0.8 },{ x: 604, y: 111,value: 0.8 },{ x: 604, y: 111,value: 0.8 },{ x: 605, y: 111,value: 0.8 },{ x: 605, y: 111,value: 0.8 },{ x: 605, y: 111,value: 0.8 },{ x: 605, y: 111,value: 0.8 },{ x: 605, y: 111,value: 0.8 },{ x: 604, y: 111,value: 0.8 },{ x: 604, y: 111,value: 0.8 },{ x: 604, y: 112,value: 0.8 },{ x: 604, y: 112,value: 0.8 },{ x: 604, y: 112,value: 0.8 },{ x: 604, y: 111,value: 0.8 },{ x: 605, y: 111,value: 0.8 },{ x: 605, y: 111,value: 0.8 },{ x: 605, y: 111,value: 0.8 },{ x: 604, y: 111,value: 0.8 },{ x: 604, y: 111,value: 0.8 },{ x: 604, y: 111,value: 0.8 },{ x: 604, y: 111,value: 0.8 },{ x: 604, y: 111,value: 0.8 },{ x: 604, y: 112,value: 0.8 },{ x: 604, y: 112,value: 0.8 },{ x: 604, y: 112,value: 0.8 },{ x: 604, y: 112,value: 0.8 },{ x: 604, y: 111,value: 0.8 },{ x: 604, y: 111,value: 0.8 },{ x: 604, y: 111,value: 0.8 },{ x: 604, y: 111,value: 0.8 },{ x: 604, y: 111,value: 0.8 },{ x: 604, y: 111,value: 0.8 },{ x: 604, y: 111,value: 0.8 },{ x: 605, y: 111,value: 0.8 },{ x: 605, y: 111,value: 0.8 },{ x: 605, y: 111,value: 0.8 },{ x: 604, y: 112,value: 0.8 },{ x: 604, y: 112,value: 0.8 },{ x: 604, y: 112,value: 0.8 },{ x: 605, y: 112,value: 0.8 },{ x: 605, y: 111,value: 0.8 },{ x: 605, y: 111,value: 0.8 },{ x: 605, y: 111,value: 0.8 },{ x: 604, y: 111,value: 0.8 },{ x: 605, y: 111,value: 0.8 },{ x: 605, y: 111,value: 0.8 },{ x: 604, y: 112,value: 0.8 },{ x: 604, y: 112,value: 0.8 },{ x: 604, y: 112,value: 0.8 },{ x: 604, y: 111,value: 0.8 },{ x: 604, y: 111,value: 0.8 },{ x: 604, y: 111,value: 0.8 },{ x: 605, y: 111,value: 0.8 },{ x: 605, y: 111,value: 0.8 },{ x: 604, y: 112,value: 0.8 },{ x: 604, y: 112,value: 0.8 },{ x: 604, y: 112,value: 0.8 },{ x: 604, y: 111,value: 0.8 },{ x: 604, y: 111,value: 0.8 },{ x: 604, y: 111,value: 0.8 },{ x: 604, y: 111,value: 0.8 },{ x: 604, y: 112,value: 0.8 },{ x: 605, y: 112,value: 0.8 },{ x: 604, y: 112,value: 0.8 },{ x: 604, y: 112,value: 0.8 },{ x: 604, y: 112,value: 0.8 },{ x: 605, y: 111,value: 0.8 },{ x: 605, y: 111,value: 0.8 },{ x: 605, y: 111,value: 0.8 },{ x: 605, y: 111,value: 0.8 },{ x: 605, y: 111,value: 0.8 },{ x: 605, y: 111,value: 0.8 },{ x: 605, y: 111,value: 0.8 },{ x: 605, y: 111,value: 0.8 },{ x: 605, y: 111,value: 0.8 },{ x: 605, y: 111,value: 0.8 },{ x: 605, y: 111,value: 0.8 },{ x: 605, y: 111,value: 0.8 },{ x: 604, y: 111,value: 0.8 },{ x: 604, y: 111,value: 0.8 },{ x: 605, y: 112,value: 0.8 },{ x: 605, y: 112,value: 0.8 },{ x: 605, y: 112,value: 0.8 },{ x: 605, y: 111,value: 0.8 },{ x: 604, y: 111,value: 0.8 },{ x: 604, y: 111,value: 0.8 },{ x: 605, y: 111,value: 0.8 },{ x: 605, y: 111,value: 0.8 },{ x: 605, y: 111,value: 0.8 },{ x: 604, y: 112,value: 0.8 },{ x: 604, y: 112,value: 0.8 },{ x: 604, y: 112,value: 0.8 },{ x: 605, y: 112,value: 0.8 },{ x: 605, y: 112,value: 0.8 },{ x: 605, y: 112,value: 0.8 },{ x: 605, y: 111,value: 0.8 },{ x: 605, y: 111,value: 0.8 },{ x: 605, y: 111,value: 0.8 },{ x: 605, y: 111,value: 0.8 },{ x: 605, y: 112,value: 0.8 },{ x: 605, y: 112,value: 0.8 },{ x: 605, y: 112,value: 0.8 },{ x: 605, y: 112,value: 0.8 },{ x: 605, y: 112,value: 0.8 },{ x: 605, y: 112,value: 0.8 },{ x: 605, y: 112,value: 0.8 },{ x: 605, y: 112,value: 0.8 },{ x: 605, y: 111,value: 0.8 },{ x: 605, y: 111,value: 0.8 },{ x: 605, y: 111,value: 0.8 },{ x: 604, y: 112,value: 0.8 },{ x: 604, y: 112,value: 0.8 },{ x: 605, y: 111,value: 0.8 },{ x: 605, y: 111,value: 0.8 },{ x: 605, y: 111,value: 0.8 },{ x: 605, y: 111,value: 0.8 },{ x: 605, y: 111,value: 0.8 },{ x: 605, y: 111,value: 0.8 },{ x: 604, y: 112,value: 0.8 },{ x: 604, y: 112,value: 0.8 },{ x: 604, y: 112,value: 0.8 },{ x: 605, y: 112,value: 0.8 },{ x: 605, y: 112,value: 0.8 },{ x: 605, y: 112,value: 0.8 },{ x: 605, y: 112,value: 0.8 },{ x: 605, y: 112,value: 0.8 },{ x: 605, y: 112,value: 0.8 },{ x: 604, y: 111,value: 0.8 },{ x: 604, y: 111,value: 0.8 },{ x: 604, y: 111,value: 0.8 },{ x: 605, y: 111,value: 0.8 },{ x: 605, y: 111,value: 0.8 },{ x: 604, y: 112,value: 0.8 },{ x: 604, y: 112,value: 0.8 },{ x: 604, y: 112,value: 0.8 },{ x: 604, y: 111,value: 0.8 },{ x: 604, y: 111,value: 0.8 },{ x: 604, y: 111,value: 0.8 },{ x: 605, y: 111,value: 0.8 },{ x: 605, y: 111,value: 0.8 },{ x: 605, y: 111,value: 0.8 },{ x: 605, y: 112,value: 0.8 },{ x: 605, y: 112,value: 0.8 },{ x: 605, y: 112,value: 0.8 },{ x: 605, y: 111,value: 0.8 },{ x: 605, y: 111,value: 0.8 },{ x: 605, y: 111,value: 0.8 },{ x: 604, y: 111,value: 0.8 },{ x: 604, y: 111,value: 0.8 },{ x: 604, y: 111,value: 0.8 },{ x: 604, y: 111,value: 0.8 },{ x: 605, y: 112,value: 0.8 },{ x: 605, y: 112,value: 0.8 },{ x: 605, y: 112,value: 0.8 },{ x: 605, y: 111,value: 0.8 },{ x: 605, y: 111,value: 0.8 },{ x: 605, y: 111,value: 0.8 },{ x: 605, y: 112,value: 0.8 },{ x: 605, y: 112,value: 0.8 },{ x: 605, y: 112,value: 0.8 },{ x: 604, y: 111,value: 0.8 },{ x: 604, y: 111,value: 0.8 },{ x: 604, y: 111,value: 0.8 },{ x: 604, y: 112,value: 0.8 },{ x: 604, y: 112,value: 0.8 },{ x: 604, y: 112,value: 0.8 },{ x: 605, y: 111,value: 0.8 },{ x: 605, y: 111,value: 0.8 },{ x: 605, y: 111,value: 0.8 },{ x: 604, y: 111,value: 0.8 },{ x: 604, y: 111,value: 0.8 },{ x: 604, y: 111,value: 0.8 },{ x: 604, y: 112,value: 0.8 },{ x: 604, y: 112,value: 0.8 },{ x: 604, y: 112,value: 0.8 },{ x: 604, y: 111,value: 0.8 },{ x: 604, y: 111,value: 0.8 },{ x: 604, y: 111,value: 0.8 },{ x: 605, y: 111,value: 0.8 },{ x: 605, y: 111,value: 0.8 },{ x: 605, y: 111,value: 0.8 },{ x: 605, y: 111,value: 0.8 },{ x: 605, y: 111,value: 0.8 },{ x: 605, y: 111,value: 0.8 },{ x: 605, y: 111,value: 0.8 },{ x: 605, y: 111,value: 0.8 },{ x: 605, y: 111,value: 0.8 },{ x: 604, y: 112,value: 0.8 },{ x: 604, y: 112,value: 0.8 },{ x: 604, y: 112,value: 0.8 },{ x: 605, y: 112,value: 0.8 },{ x: 605, y: 112,value: 0.8 },{ x: 605, y: 112,value: 0.8 },{ x: 605, y: 111,value: 0.8 },{ x: 605, y: 111,value: 0.8 },{ x: 605, y: 111,value: 0.8 },{ x: 605, y: 112,value: 0.8 },{ x: 605, y: 112,value: 0.8 },{ x: 605, y: 112,value: 0.8 },{ x: 605, y: 112,value: 0.8 },{ x: 605, y: 112,value: 0.8 },{ x: 604, y: 112,value: 0.8 },{ x: 604, y: 112,value: 0.8 },{ x: 604, y: 112,value: 0.8 },{ x: 605, y: 112,value: 0.8 },{ x: 605, y: 112,value: 0.8 },{ x: 605, y: 112,value: 0.8 },{ x: 605, y: 112,value: 0.8 },{ x: 605, y: 111,value: 0.8 },{ x: 605, y: 111,value: 0.8 },{ x: 605, y: 111,value: 0.8 },{ x: 605, y: 111,value: 0.8 },{ x: 605, y: 111,value: 0.8 },{ x: 605, y: 111,value: 0.8 },{ x: 605, y: 111,value: 0.8 },{ x: 605, y: 111,value: 0.8 },{ x: 604, y: 112,value: 0.8 },{ x: 604, y: 112,value: 0.8 },{ x: 604, y: 112,value: 0.8 },{ x: 605, y: 111,value: 0.8 },{ x: 605, y: 111,value: 0.8 },{ x: 605, y: 111,value: 0.8 },{ x: 604, y: 112,value: 0.8 },{ x: 604, y: 112,value: 0.8 },{ x: 604, y: 112,value: 0.8 },{ x: 604, y: 111,value: 0.8 },{ x: 604, y: 111,value: 0.8 },{ x: 604, y: 111,value: 0.8 },{ x: 604, y: 111,value: 0.8 },{ x: 605, y: 111,value: 0.8 },{ x: 605, y: 111,value: 0.8 },{ x: 605, y: 111,value: 0.8 },{ x: 605, y: 111,value: 0.8 },{ x: 605, y: 111,value: 0.8 },{ x: 605, y: 111,value: 0.8 },{ x: 605, y: 111,value: 0.8 },{ x: 605, y: 111,value: 0.8 },{ x: 605, y: 111,value: 0.8 },{ x: 605, y: 111,value: 0.8 },{ x: 604, y: 112,value: 0.8 },{ x: 604, y: 112,value: 0.8 },{ x: 604, y: 112,value: 0.8 },{ x: 605, y: 111,value: 0.8 },{ x: 605, y: 111,value: 0.8 },{ x: 605, y: 111,value: 0.8 },{ x: 604, y: 111,value: 0.8 },{ x: 604, y: 111,value: 0.8 },{ x: 604, y: 111,value: 0.8 },{ x: 604, y: 112,value: 0.8 },{ x: 604, y: 112,value: 0.8 },{ x: 604, y: 112,value: 0.8 },{ x: 604, y: 111,value: 0.8 },{ x: 604, y: 111,value: 0.8 },{ x: 604, y: 111,value: 0.8 },{ x: 604, y: 111,value: 0.8 },{ x: 604, y: 111,value: 0.8 },{ x: 605, y: 111,value: 0.8 },{ x: 605, y: 111,value: 0.8 },{ x: 605, y: 111,value: 0.8 },{ x: 605, y: 111,value: 0.8 },{ x: 605, y: 110,value: 0.8 },{ x: 605, y: 110,value: 0.8 },{ x: 605, y: 110,value: 0.8 },{ x: 604, y: 111,value: 0.8 },{ x: 604, y: 111,value: 0.8 },{ x: 604, y: 111,value: 0.8 },{ x: 605, y: 111,value: 0.8 },{ x: 605, y: 111,value: 0.8 },{ x: 605, y: 112,value: 0.8 },{ x: 605, y: 111,value: 0.8 },{ x: 605, y: 112,value: 0.8 },{ x: 605, y: 112,value: 0.8 },{ x: 605, y: 112,value: 0.8 },{ x: 604, y: 112,value: 0.8 },{ x: 604, y: 112,value: 0.8 },{ x: 604, y: 112,value: 0.8 },{ x: 604, y: 111,value: 0.8 },{ x: 604, y: 111,value: 0.8 },{ x: 604, y: 111,value: 0.8 },{ x: 604, y: 111,value: 0.8 },{ x: 604, y: 111,value: 0.8 },{ x: 604, y: 111,value: 0.8 },{ x: 605, y: 112,value: 0.8 },{ x: 605, y: 112,value: 0.8 },{ x: 605, y: 112,value: 0.8 },{ x: 604, y: 111,value: 0.8 },{ x: 605, y: 111,value: 0.8 },{ x: 605, y: 111,value: 0.8 },{ x: 605, y: 111,value: 0.8 },{ x: 604, y: 112,value: 0.8 },{ x: 604, y: 112,value: 0.8 },{ x: 604, y: 112,value: 0.8 },{ x: 604, y: 111,value: 0.8 },{ x: 604, y: 111,value: 0.8 },{ x: 604, y: 111,value: 0.8 },{ x: 605, y: 112,value: 0.8 },{ x: 605, y: 112,value: 0.8 },{ x: 605, y: 112,value: 0.8 },{ x: 604, y: 111,value: 0.8 },{ x: 604, y: 111,value: 0.8 },{ x: 604, y: 111,value: 0.8 },{ x: 605, y: 112,value: 0.8 },{ x: 604, y: 112,value: 0.8 },{ x: 604, y: 112,value: 0.8 },{ x: 604, y: 111,value: 0.8 },{ x: 604, y: 111,value: 0.8 },{ x: 604, y: 111,value: 0.8 },{ x: 604, y: 111,value: 0.8 },{ x: 604, y: 111,value: 0.8 },{ x: 604, y: 111,value: 0.8 },{ x: 605, y: 112,value: 0.8 },{ x: 605, y: 112,value: 0.8 },{ x: 605, y: 112,value: 0.8 },{ x: 605, y: 112,value: 0.8 },{ x: 604, y: 111,value: 0.8 },{ x: 604, y: 111,value: 0.8 },{ x: 604, y: 111,value: 0.8 },{ x: 605, y: 111,value: 0.8 },{ x: 605, y: 111,value: 0.8 },{ x: 605, y: 111,value: 0.8 },{ x: 605, y: 111,value: 0.8 },{ x: 605, y: 111,value: 0.8 },{ x: 605, y: 111,value: 0.8 },{ x: 605, y: 111,value: 0.8 },{ x: 605, y: 111,value: 0.8 },{ x: 605, y: 111,value: 0.8 },{ x: 605, y: 112,value: 0.8 },{ x: 605, y: 112,value: 0.8 },{ x: 605, y: 112,value: 0.8 },{ x: 605, y: 111,value: 0.8 },{ x: 605, y: 111,value: 0.8 },{ x: 605, y: 111,value: 0.8 },{ x: 604, y: 111,value: 0.8 },{ x: 604, y: 111,value: 0.8 },{ x: 604, y: 111,value: 0.8 },{ x: 605, y: 111,value: 0.8 },{ x: 605, y: 111,value: 0.8 },{ x: 605, y: 111,value: 0.8 },{ x: 604, y: 111,value: 0.8 },{ x: 605, y: 111,value: 0.8 },{ x: 605, y: 111,value: 0.8 },{ x: 605, y: 111,value: 0.8 },{ x: 604, y: 111,value: 0.8 },{ x: 604, y: 111,value: 0.8 },{ x: 605, y: 110,value: 0.8 },{ x: 605, y: 110,value: 0.8 },{ x: 605, y: 110,value: 0.8 },{ x: 605, y: 111,value: 0.8 },{ x: 605, y: 111,value: 0.8 },{ x: 605, y: 111,value: 0.8 },{ x: 605, y: 111,value: 0.8 },{ x: 604, y: 111,value: 0.8 },{ x: 604, y: 111,value: 0.8 },{ x: 604, y: 111,value: 0.8 },{ x: 604, y: 111,value: 0.8 },{ x: 604, y: 111,value: 0.8 },{ x: 604, y: 111,value: 0.8 },{ x: 605, y: 112,value: 0.8 },{ x: 605, y: 112,value: 0.8 },{ x: 605, y: 112,value: 0.8 },{ x: 605, y: 112,value: 0.8 },{ x: 604, y: 112,value: 0.8 },{ x: 604, y: 112,value: 0.8 },{ x: 604, y: 112,value: 0.8 },{ x: 604, y: 111,value: 0.8 },{ x: 604, y: 111,value: 0.8 },{ x: 604, y: 111,value: 0.8 },{ x: 604, y: 111,value: 0.8 },{ x: 604, y: 111,value: 0.8 },{ x: 604, y: 111,value: 0.8 },{ x: 604, y: 112,value: 0.8 },{ x: 604, y: 112,value: 0.8 },{ x: 604, y: 112,value: 0.8 },{ x: 605, y: 111,value: 0.8 },{ x: 605, y: 111,value: 0.8 },{ x: 605, y: 111,value: 0.8 },{ x: 605, y: 112,value: 0.8 },{ x: 605, y: 112,value: 0.8 },{ x: 605, y: 112,value: 0.8 },{ x: 605, y: 110,value: 0.8 },{ x: 605, y: 110,value: 0.8 },{ x: 604, y: 111,value: 0.8 },{ x: 604, y: 111,value: 0.8 },{ x: 605, y: 111,value: 0.8 },{ x: 605, y: 111,value: 0.8 },{ x: 605, y: 111,value: 0.8 },{ x: 605, y: 111,value: 0.8 },{ x: 604, y: 111,value: 0.8 },{ x: 604, y: 111,value: 0.8 },{ x: 604, y: 111,value: 0.8 },{ x: 604, y: 111,value: 0.8 },{ x: 604, y: 111,value: 0.8 },{ x: 604, y: 111,value: 0.8 },{ x: 604, y: 111,value: 0.8 },{ x: 604, y: 111,value: 0.8 },{ x: 604, y: 112,value: 0.8 },{ x: 604, y: 112,value: 0.8 },{ x: 604, y: 112,value: 0.8 },{ x: 604, y: 112,value: 0.8 },{ x: 604, y: 112,value: 0.8 },{ x: 604, y: 112,value: 0.8 },{ x: 605, y: 111,value: 0.8 },{ x: 605, y: 111,value: 0.8 },{ x: 605, y: 111,value: 0.8 },{ x: 605, y: 112,value: 0.8 },{ x: 605, y: 112,value: 0.8 },{ x: 605, y: 112,value: 0.8 },{ x: 605, y: 111,value: 0.8 },{ x: 605, y: 111,value: 0.8 },{ x: 605, y: 111,value: 0.8 },{ x: 605, y: 111,value: 0.8 },{ x: 605, y: 111,value: 0.8 },{ x: 605, y: 111,value: 0.8 },{ x: 605, y: 112,value: 0.8 },{ x: 605, y: 112,value: 0.8 },{ x: 605, y: 112,value: 0.8 },{ x: 604, y: 112,value: 0.8 },{ x: 605, y: 111,value: 0.8 },{ x: 605, y: 111,value: 0.8 },{ x: 605, y: 111,value: 0.8 },{ x: 605, y: 111,value: 0.8 },{ x: 605, y: 111,value: 0.8 },{ x: 605, y: 111,value: 0.8 },{ x: 604, y: 111,value: 0.8 },{ x: 604, y: 111,value: 0.8 },{ x: 604, y: 111,value: 0.8 },{ x: 605, y: 111,value: 0.8 },{ x: 605, y: 111,value: 0.8 },{ x: 605, y: 112,value: 0.8 },{ x: 605, y: 112,value: 0.8 },{ x: 604, y: 110,value: 0.8 },{ x: 604, y: 110,value: 0.8 },{ x: 604, y: 110,value: 0.8 },{ x: 604, y: 111,value: 0.8 },{ x: 604, y: 111,value: 0.8 },{ x: 604, y: 111,value: 0.8 },{ x: 604, y: 111,value: 0.8 },{ x: 604, y: 111,value: 0.8 },{ x: 604, y: 111,value: 0.8 },{ x: 604, y: 111,value: 0.8 },{ x: 604, y: 111,value: 0.8 },{ x: 604, y: 111,value: 0.8 },{ x: 604, y: 112,value: 0.8 },{ x: 604, y: 112,value: 0.8 },{ x: 604, y: 112,value: 0.8 },{ x: 605, y: 112,value: 0.8 },{ x: 605, y: 112,value: 0.8 },{ x: 605, y: 111,value: 0.8 },{ x: 605, y: 111,value: 0.8 },{ x: 605, y: 111,value: 0.8 },{ x: 605, y: 111,value: 0.8 },{ x: 605, y: 111,value: 0.8 },{ x: 605, y: 111,value: 0.8 },{ x: 605, y: 111,value: 0.8 },{ x: 605, y: 111,value: 0.8 },{ x: 605, y: 111,value: 0.8 },{ x: 605, y: 110,value: 0.8 },{ x: 605, y: 110,value: 0.8 },{ x: 605, y: 110,value: 0.8 },{ x: 605, y: 112,value: 0.8 },{ x: 605, y: 112,value: 0.8 },{ x: 605, y: 112,value: 0.8 },{ x: 604, y: 111,value: 0.8 },{ x: 604, y: 111,value: 0.8 },{ x: 604, y: 111,value: 0.8 },{ x: 605, y: 111,value: 0.8 },{ x: 605, y: 111,value: 0.8 },{ x: 605, y: 111,value: 0.8 },{ x: 604, y: 111,value: 0.8 },{ x: 604, y: 111,value: 0.8 },{ x: 604, y: 111,value: 0.8 },{ x: 604, y: 112,value: 0.8 },{ x: 604, y: 112,value: 0.8 },{ x: 604, y: 112,value: 0.8 },{ x: 605, y: 112,value: 0.8 },{ x: 605, y: 112,value: 0.8 },{ x: 605, y: 112,value: 0.8 },{ x: 604, y: 112,value: 0.8 },{ x: 604, y: 112,value: 0.8 },{ x: 604, y: 112,value: 0.8 },{ x: 605, y: 111,value: 0.8 },{ x: 605, y: 111,value: 0.8 },{ x: 605, y: 111,value: 0.8 },{ x: 604, y: 111,value: 0.8 },{ x: 604, y: 111,value: 0.8 },{ x: 604, y: 111,value: 0.8 },{ x: 604, y: 111,value: 0.8 },{ x: 604, y: 111,value: 0.8 },{ x: 604, y: 111,value: 0.8 },{ x: 605, y: 112,value: 0.8 },{ x: 605, y: 112,value: 0.8 },{ x: 605, y: 112,value: 0.8 },{ x: 604, y: 112,value: 0.8 },{ x: 604, y: 112,value: 0.8 },{ x: 604, y: 112,value: 0.8 },{ x: 605, y: 112,value: 0.8 },{ x: 605, y: 112,value: 0.8 },{ x: 605, y: 112,value: 0.8 },{ x: 604, y: 111,value: 0.8 },{ x: 604, y: 111,value: 0.8 },{ x: 604, y: 111,value: 0.8 },{ x: 604, y: 111,value: 0.8 },{ x: 605, y: 111,value: 0.8 },{ x: 605, y: 111,value: 0.8 },{ x: 605, y: 111,value: 0.8 },{ x: 604, y: 111,value: 0.8 },{ x: 604, y: 111,value: 0.8 },{ x: 604, y: 111,value: 0.8 },{ x: 604, y: 111,value: 0.8 },{ x: 604, y: 111,value: 0.8 },{ x: 604, y: 111,value: 0.8 },{ x: 604, y: 111,value: 0.8 },{ x: 604, y: 111,value: 0.8 },{ x: 604, y: 111,value: 0.8 },{ x: 604, y: 112,value: 0.8 },{ x: 604, y: 112,value: 0.8 },{ x: 604, y: 112,value: 0.8 } ]'"
      ]
     },
     "execution_count": 22,
     "metadata": {},
     "output_type": "execute_result"
    }
   ],
   "source": [
    "out"
   ]
  }
 ],
 "metadata": {
  "kernelspec": {
   "display_name": "Python 3",
   "language": "python",
   "name": "python3"
  },
  "language_info": {
   "codemirror_mode": {
    "name": "ipython",
    "version": 3
   },
   "file_extension": ".py",
   "mimetype": "text/x-python",
   "name": "python",
   "nbconvert_exporter": "python",
   "pygments_lexer": "ipython3",
   "version": "3.9.6"
  },
  "orig_nbformat": 4
 },
 "nbformat": 4,
 "nbformat_minor": 2
}
